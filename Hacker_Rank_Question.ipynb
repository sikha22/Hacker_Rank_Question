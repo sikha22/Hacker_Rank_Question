{
  "nbformat": 4,
  "nbformat_minor": 0,
  "metadata": {
    "colab": {
      "name": "Hacker_Rank_Question.ipynb",
      "provenance": [],
      "authorship_tag": "ABX9TyOeJHHa5zHsy1hKyVlazggJ",
      "include_colab_link": true
    },
    "kernelspec": {
      "name": "python3",
      "display_name": "Python 3"
    },
    "language_info": {
      "name": "python"
    }
  },
  "cells": [
    {
      "cell_type": "markdown",
      "metadata": {
        "id": "view-in-github",
        "colab_type": "text"
      },
      "source": [
        "<a href=\"https://colab.research.google.com/github/sikha22/Hacker_Rank_Question/blob/main/Hacker_Rank_Question.ipynb\" target=\"_parent\"><img src=\"https://colab.research.google.com/assets/colab-badge.svg\" alt=\"Open In Colab\"/></a>"
      ]
    },
    {
      "cell_type": "code",
      "metadata": {
        "colab": {
          "base_uri": "https://localhost:8080/"
        },
        "id": "sqI16kZ0yOQs",
        "outputId": "8ef23432-3ea0-4263-dc92-65671e041c72"
      },
      "source": [
        "X = int(input())\n",
        "Y = int(input())\n",
        "Z = int(input())\n",
        "N = int(input())\n",
        "\n",
        "a = [x for x in range(X+1)]\n",
        "b = [y for y in range(Y+1)]\n",
        "c = [z for z in range(Z+1)]\n",
        "\n",
        "results = []\n",
        "for x in a:\n",
        "    for y in b:\n",
        "        for z in c:\n",
        "            if x + y + z != N:\n",
        "                results.append([x,y,z])\n",
        "print(results)"
      ],
      "execution_count": 1,
      "outputs": [
        {
          "output_type": "stream",
          "name": "stdout",
          "text": [
            "2\n",
            "2\n",
            "2\n",
            "8\n",
            "[[0, 0, 0], [0, 0, 1], [0, 0, 2], [0, 1, 0], [0, 1, 1], [0, 1, 2], [0, 2, 0], [0, 2, 1], [0, 2, 2], [1, 0, 0], [1, 0, 1], [1, 0, 2], [1, 1, 0], [1, 1, 1], [1, 1, 2], [1, 2, 0], [1, 2, 1], [1, 2, 2], [2, 0, 0], [2, 0, 1], [2, 0, 2], [2, 1, 0], [2, 1, 1], [2, 1, 2], [2, 2, 0], [2, 2, 1], [2, 2, 2]]\n"
          ]
        }
      ]
    }
  ]
}